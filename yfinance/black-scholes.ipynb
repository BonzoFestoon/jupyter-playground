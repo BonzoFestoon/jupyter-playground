{
 "cells": [
  {
   "cell_type": "code",
   "execution_count": 39,
   "metadata": {},
   "outputs": [],
   "source": [
    "import numpy as np\n",
    "import scipy.stats as si\n",
    "import yfinance as yf\n",
    "\n",
    "def bs_vanilla_dividend(S, K, T, r, q, sigma, option = 'call'):\n",
    "    \n",
    "    #S: spot price\n",
    "    #K: strike price\n",
    "    #T: time to maturity\n",
    "    #r: interest rate\n",
    "    #q: rate of continuous dividend paying asset \n",
    "    #sigma: volatility of underlying asset\n",
    "    \n",
    "    d1 = (np.log(S / K) + (r - q + 0.5 * sigma ** 2) * T) / (sigma * np.sqrt(T))\n",
    "    d2 = (np.log(S / K) + (r - q - 0.5 * sigma ** 2) * T) / (sigma * np.sqrt(T))\n",
    "    \n",
    "    if option == 'call':\n",
    "        result = (S * np.exp(-q * T) * si.norm.cdf(d1, 0.0, 1.0) - K * np.exp(-r * T) * si.norm.cdf(d2, 0.0, 1.0))\n",
    "    if option == 'put':\n",
    "        result = (K * np.exp(-r * T) * si.norm.cdf(-d2, 0.0, 1.0) - S * np.exp(-q * T) * si.norm.cdf(-d1, 0.0, 1.0))\n",
    "        \n",
    "    return result"
   ]
  },
  {
   "cell_type": "code",
   "execution_count": 40,
   "metadata": {},
   "outputs": [],
   "source": [
    "def get_riskfree_rate():\n",
    "    bm_tickerSymbol = '^IRX'\n",
    "    # Get the benchmark rate\n",
    "    bm_tickerData = yf.Ticker(bm_tickerSymbol)\n",
    "    bm_tickerDf = bm_tickerData.history(period='1d')\n",
    "\n",
    "    bm_yield = bm_tickerDf['Close'].iloc[-1]\n",
    "    return bm_yield/100\n",
    "\n",
    "def get_last_close(tickerSymbol):\n",
    "    data = yf.Ticker(tickerSymbol)\n",
    "    df = data.history(period='1d')\n",
    "\n",
    "    return df['Close'].iloc[-1]"
   ]
  },
  {
   "cell_type": "code",
   "execution_count": 41,
   "metadata": {},
   "outputs": [],
   "source": [
    "r = get_riskfree_rate()"
   ]
  },
  {
   "cell_type": "code",
   "execution_count": 51,
   "metadata": {},
   "outputs": [
    {
     "name": "stdout",
     "output_type": "stream",
     "text": [
      "0.0525\n",
      "0.1825242224558421\n"
     ]
    }
   ],
   "source": [
    "def main():\n",
    "    S = get_last_close('F')\n",
    "    d = 0.043\n",
    "    dte = 10\n",
    "    print(r)\n",
    "    o = bs_vanilla_dividend(S, 13.5, dte/365, r, d, 0.359, 'call' )\n",
    "    print(o)\n",
    "\n",
    "main()"
   ]
  }
 ],
 "metadata": {
  "kernelspec": {
   "display_name": "base",
   "language": "python",
   "name": "python3"
  },
  "language_info": {
   "codemirror_mode": {
    "name": "ipython",
    "version": 3
   },
   "file_extension": ".py",
   "mimetype": "text/x-python",
   "name": "python",
   "nbconvert_exporter": "python",
   "pygments_lexer": "ipython3",
   "version": "3.11.3"
  },
  "orig_nbformat": 4
 },
 "nbformat": 4,
 "nbformat_minor": 2
}

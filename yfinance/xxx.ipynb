{
 "cells": [
  {
   "cell_type": "code",
   "execution_count": 19,
   "metadata": {},
   "outputs": [
    {
     "name": "stdout",
     "output_type": "stream",
     "text": [
      "13.180000305175781\n",
      "|    | contractSymbol   | lastTradeDate             |   strike |   lastPrice |   bid |   ask |   change |   percentChange |   volume |   openInterest |   impliedVolatility | inTheMoney   | contractSize   | currency   |   intrinsic_value |   market_price |   extrinsic_value |   extrinsic_to_strike_percentage |   extrinsic_to_underlying_percentage |   called_away_percentage |\n",
      "|---:|:-----------------|:--------------------------|---------:|------------:|------:|------:|---------:|----------------:|---------:|---------------:|--------------------:|:-------------|:---------------|:-----------|------------------:|---------------:|------------------:|---------------------------------:|-------------------------------------:|-------------------------:|\n",
      "|  8 | F230804C00013000 | 2023-07-31 15:07:30+00:00 |     13   |        0.31 |  0.3  |  0.31 |    -0.08 |       -20.5128  |     8466 |           7317 |            0.33985  | True         | REGULAR        | USD        |              0.18 |          0.305 |             0.125 |                       0.00961536 |                           0.00948404 |               0.00948404 |\n",
      "|  8 | F230811C00013000 | 2023-07-31 15:07:30+00:00 |     13   |        0.41 |  0.4  |  0.41 |    -0.06 |       -12.766   |     9812 |           2422 |            0.335944 | True         | REGULAR        | USD        |              0.18 |          0.405 |             0.225 |                       0.0173077  |                           0.0170713  |               0.0170713  |\n",
      "|  9 | F230811C00013500 | 2023-07-31 15:05:56+00:00 |     13.5 |        0.16 |  0.17 |  0.18 |    -0.04 |       -20       |     3310 |           3770 |            0.330085 | False        | REGULAR        | USD        |              0    |          0.175 |             0.175 |                       0.012963   |                           0.0132777  |               0.0375569  |\n",
      "|  0 | F230818C00003000 | 2023-06-13 14:01:43+00:00 |      3   |       11.1  | 12.1  | 12.15 |     0    |         0       |        1 |              3 |           11.6719   | True         | REGULAR        | USD        |             10.18 |         12.125 |             1.945 |                       0.648333   |                           0.147572   |               0.147572   |\n",
      "| 12 | F230818C00012500 | 2023-07-31 14:09:03+00:00 |     12.5 |        0.81 |  0.82 |  0.85 |    -0.08 |        -8.98876 |       28 |            304 |            0.373053 | True         | REGULAR        | USD        |              0.68 |          0.835 |             0.155 |                       0.0124     |                           0.0117602  |               0.0117602  |\n",
      "| 13 | F230818C00013000 | 2023-07-31 15:07:45+00:00 |     13   |        0.47 |  0.46 |  0.47 |    -0.06 |       -11.3208  |     4098 |          13728 |            0.318366 | True         | REGULAR        | USD        |              0.18 |          0.465 |             0.285 |                       0.0219231  |                           0.0216236  |               0.0216236  |\n",
      "| 14 | F230818C00013500 | 2023-07-31 15:08:15+00:00 |     13.5 |        0.24 |  0.23 |  0.24 |    -0.04 |       -14.2857  |    11829 |          23086 |            0.31446  | False        | REGULAR        | USD        |              0    |          0.235 |             0.235 |                       0.0174074  |                           0.01783    |               0.0421092  |\n",
      "| 15 | F230818C00014000 | 2023-07-31 15:08:05+00:00 |     14   |        0.11 |  0.1  |  0.11 |    -0.01 |        -8.33333 |     1803 |          42890 |            0.318366 | False        | REGULAR        | USD        |              0    |          0.105 |             0.105 |                       0.0075     |                           0.00796662 |               0.0701821  |\n"
     ]
    }
   ],
   "source": [
    "import yfinance as yf\n",
    "import pandas as pd\n",
    "\n",
    "ticker = \"F\"\n",
    "ul_price = yf.Ticker(ticker).history(period='1d')['Close'][0]\n",
    "expirations = yf.Ticker(ticker).options[:3]\n",
    "\n",
    "calls = pd.concat( [yf.Ticker(ticker).option_chain(expirations[0]).calls, yf.Ticker(ticker).option_chain(expirations[1]).calls, yf.Ticker(ticker).option_chain(expirations[2]).calls])\n",
    "\n",
    "calls['intrinsic_value'] = ul_price - calls['strike'] \n",
    "calls.loc[calls['intrinsic_value'] < 0, 'intrinsic_value'] = 0\n",
    "calls['market_price'] = (calls['bid'] + calls['ask']) / 2\n",
    "calls['extrinsic_value'] = calls['market_price'] - calls['intrinsic_value']\n",
    "calls['extrinsic_to_strike_percentage'] = calls['extrinsic_value'] / calls['strike'] \n",
    "calls['extrinsic_to_underlying_percentage'] = calls['extrinsic_value'] / ul_price\n",
    "calls['called_away_percentage'] = ( ul_price - calls['market_price'] - calls['strike']) / ul_price * -1\n",
    "\n",
    "print(ul_price)\n",
    "print(calls[calls['extrinsic_value'] > .1].to_markdown())"
   ]
  },
  {
   "cell_type": "code",
   "execution_count": 2,
   "metadata": {},
   "outputs": [
    {
     "name": "stdout",
     "output_type": "stream",
     "text": [
      "13.260000228881836\n"
     ]
    }
   ],
   "source": [
    "xxx = yf.Ticker(ticker).history(period='1d')['Close'][0]\n",
    "print(xxx)"
   ]
  },
  {
   "cell_type": "code",
   "execution_count": null,
   "metadata": {},
   "outputs": [],
   "source": [
    "import json\n",
    "print(json.dumps(yf.Ticker(ticker).info, indent=4) )"
   ]
  },
  {
   "cell_type": "code",
   "execution_count": 15,
   "metadata": {},
   "outputs": [
    {
     "name": "stdout",
     "output_type": "stream",
     "text": [
      "Initializing the MarketEnvironment!\n",
      "MarketEnvironment(t=29-07-2023, r=5.0%, S_t=3.4, sigma=112.0%)\n",
      "Initializing the EuropeanOption!\n",
      "Initializing the EuropeanOption!\n",
      "Initializing the EuropeanOption!\n",
      "Initializing the EuropeanOption!\n",
      "PlainVanillaOption('put', S_t=3.4, K=3.5, t=29-07-2023, T=12-08-2023, tau=0.04y, r=5.0%, sigma=112.0%)\n",
      "[0.34451337]\n",
      "[3.49377267]\n",
      "[0.10377267]\n"
     ]
    }
   ],
   "source": [
    "import warnings\n",
    "import datetime as dt\n",
    "from pyblackscholesanalytics.market.market import MarketEnvironment\n",
    "from pyblackscholesanalytics.options.options import PlainVanillaOption, DigitalOption\n",
    "\n",
    "warnings.filterwarnings(\"ignore\")\n",
    "\n",
    "def option_factory(mkt_env, plain_or_digital, option_type, **kwargs):\n",
    "    option_dispatcher = {\n",
    "        \"plain_vanilla\": {\"call\": PlainVanillaOption(mkt_env, **kwargs),\n",
    "                          \"put\": PlainVanillaOption(mkt_env, option_type=\"put\", **kwargs)\n",
    "                          },\n",
    "        \"digital\": {\"call\": DigitalOption(mkt_env, **kwargs),\n",
    "                    \"put\": DigitalOption(mkt_env, option_type=\"put\", **kwargs)\n",
    "                    }\n",
    "    }\n",
    "\n",
    "    return option_dispatcher[plain_or_digital][option_type]\n",
    "\n",
    "def main():\n",
    "    # if np_output is True, the output will be np.ndarray, otherwise pd.DataFrame\n",
    "    np_output = False  # True\n",
    "\n",
    "    # default market environment\n",
    "    market_env = MarketEnvironment(dt.datetime.today(), 0.05, 3.39, 1.12)\n",
    "    print(market_env)\n",
    "\n",
    "     # define option style and type\n",
    "    opt_style = \"plain_vanilla\"  # \"digital\" # \"plain_vanilla\"\n",
    "    opt_type = \"put\"  # \"put\"\n",
    "    option = option_factory(market_env, opt_style, opt_type, T='12-08-2023', K=3.5  )\n",
    "    print(option)\n",
    "    print(option.price())\n",
    "    print(option.price_upper_limit())\n",
    "    print(option.price_lower_limit())\n",
    "\n",
    "main()\n",
    "\n",
    "# Define the benchmark yield\n",
    "bm_tickerSymbol = '^IRX'\n",
    "\n",
    "# define the parameters as variables\n",
    "S = 100 # underlying price\n",
    "K = 110 # strike price\n",
    "T = 0.5 # time to expiration (in years)\n",
    "r = 0.05 # risk-free interest rate\n",
    "q = 0 # dividend yield\n",
    "sigma = 0.2 # volatility\n",
    "\n"
   ]
  },
  {
   "cell_type": "code",
   "execution_count": 17,
   "metadata": {},
   "outputs": [
    {
     "name": "stdout",
     "output_type": "stream",
     "text": [
      "|    |   dte | expiryDate   |   strike |   volume |   openInterest | lastTradeDate       |   lastPrice |   bid |   ask |   mid |   extrinsic |   simpleReturn |   annualized |   impliedVolatility |\n",
      "|---:|------:|:-------------|---------:|---------:|---------------:|:--------------------|------------:|------:|------:|------:|------------:|---------------:|-------------:|--------------------:|\n",
      "|  3 |     6 | 2023-08-04   |      3.5 |      820 |           1548 | 2023-07-28 19:59:16 |        0.2  |  0.2  |  0.21 | 0.205 |       0.185 |      0.05      |     3.04167  |            1.09375  |\n",
      "|  3 |    13 | 2023-08-11   |      3.5 |       25 |            286 | 2023-07-28 19:50:52 |        0.33 |  0.3  |  0.35 | 0.325 |       0.305 |      0.0842857 |     2.36648  |            1.20313  |\n",
      "|  5 |    20 | 2023-08-18   |      3.5 |       59 |           1035 | 2023-07-28 19:52:08 |        0.4  |  0.38 |  0.41 | 0.395 |       0.375 |      0.104286  |     1.90321  |            1.1875   |\n",
      "|  4 |    27 | 2023-08-25   |      3.5 |        2 |            128 | 2023-07-27 16:22:55 |        0.44 |  0.44 |  0.49 | 0.465 |       0.445 |      0.124286  |     1.68016  |            1.20704  |\n",
      "|  3 |    34 | 2023-09-01   |      3.5 |       17 |            161 | 2023-07-27 19:08:39 |        0.58 |  0.48 |  0.56 | 0.52  |       0.5   |      0.14      |     1.50294  |            1.20704  |\n",
      "|  3 |    48 | 2023-09-15   |      3.5 |        2 |            128 | 2023-07-28 14:44:24 |        0.58 |  0.56 |  0.59 | 0.575 |       0.555 |      0.155714  |     1.18408  |            1.125    |\n",
      "|  6 |    83 | 2023-10-20   |      3.5 |        2 |           1106 | 2023-07-28 16:36:18 |        0.75 |  0.73 |  0.82 | 0.775 |       0.755 |      0.212857  |     0.936059 |            1.16797  |\n",
      "|  6 |   174 | 2024-01-19   |      3.5 |        2 |            291 | 2023-07-28 16:48:50 |        1.03 |  1.01 |  1.05 | 1.03  |       1.01  |      0.285714  |     0.599343 |            1.08594  |\n",
      "|  6 |   538 | 2025-01-17   |      3.5 |        1 |            112 | 2023-07-28 17:49:31 |        1.65 |  1.5  |  1.7  | 1.6   |       1.58  |      0.448571  |     0.304328 |            0.999023 |\n"
     ]
    }
   ],
   "source": [
    "import yfinance as yf\n",
    "import pandas as pd\n",
    "import datetime # import the datetime module\n",
    "\n",
    "ticker = yf.Ticker(\"HUT\") \n",
    "commish = 1\n",
    "today = pd.to_datetime(datetime.date.today()) # get today's date as a DatetimeArray object\n",
    "\n",
    "\n",
    "exp_dates = ticker.options # get all expiration dates\n",
    "max_puts = [] # create an empty list to store the max_put for each date\n",
    "today_data = ticker.history(period='1d') # get today's data\n",
    "close_price = today_data['Close'].iloc[0] # get the close price\n",
    "for date in exp_dates:\n",
    "  opt = ticker.option_chain(date) # get option chain for a given date\n",
    "  \n",
    "  puts = opt.puts[(opt.puts['bid'] > 0) & (opt.puts['openInterest'] > 0)].copy() # get put options data and exclude puts that have a bid of 0\n",
    "  \n",
    "  puts.loc[:, 'lastTradeDate'] = pd.to_datetime(puts['lastTradeDate']) # convert the lastTradeDate column to a datetime object using .loc method\n",
    "  puts.loc[:, 'lastTradeDate'] = puts['lastTradeDate'].dt.tz_localize(None) # remove the timezone information using .dt.tz_localize(None) method\n",
    "  puts = puts[puts['lastTradeDate'] >= today - pd.Timedelta(days=30)] # filter out the puts that have not been traded in the last 30 days using .loc method\n",
    "\n",
    "\n",
    "  # calculate extrinsic value and find the highest one\n",
    "  puts.loc[:, 'mid'] = (puts['bid'] + puts['ask']) / 2 # calculate the mid point between the bid and ask using .loc method\n",
    "  puts.loc[:, 'intrinsic'] = puts['strike'] - close_price # calculate intrinsic value using the close price using .loc method\n",
    "  puts.loc[:, 'intrinsic'] = puts['intrinsic'].clip(lower=0) # ensure that intrinsic value is not less than 0 using .clip method\n",
    "  puts.loc[:, 'extrinsic'] = puts['mid'] - puts['intrinsic'] # calculate extrinsic value using the mid point using .loc method\n",
    "  max_extrinsic = puts['extrinsic'].max() # find the maximum extrinsic value\n",
    "  max_put = puts[puts['extrinsic'] == max_extrinsic] # find the put option with the maximum extrinsic value\n",
    "  max_puts.append(max_put) # add the max_put to the list\n",
    "\n",
    "\n",
    "max_puts_df = pd.concat(max_puts) # concatenate the list of dataframes into a single dataframe\n",
    "\n",
    "ticker_len = len(ticker.ticker) # get the length of the ticker symbol\n",
    "\n",
    "max_puts_df.loc[:, 'expiryDate'] = pd.to_datetime(max_puts_df['contractSymbol'].str.slice(ticker_len, ticker_len+6), format='%y%m%d').dt.date # create a column named expiryDate using the contractSymbol column and convert it to a date object\n",
    "max_puts_df.loc[:, 'dte'] = (pd.to_datetime(max_puts_df['expiryDate']) - today).dt.days # create a column named dte using the expiryDate column and calculate the days to expiration as an int\n",
    "\n",
    "max_puts_df = max_puts_df[~(max_puts_df['dte'] == 0)] # remove rows where dte is 0\n",
    "\n",
    "max_puts_df.loc[:, 'simpleReturn'] = (max_puts_df['extrinsic'] - commish/100) / max_puts_df['strike'] # calculate the simple return using the extrinsicValue and strike columns\n",
    "max_puts_df.loc[:, 'annualized'] = max_puts_df['simpleReturn'] / max_puts_df['dte'] * 365  # calculate the annualized return using the extrinsicValue and strike columns\n",
    "\n",
    "xxx_df = max_puts_df.loc[:, ['dte', 'expiryDate', 'strike', 'volume', 'openInterest', 'lastTradeDate', 'lastPrice', 'bid', 'ask', 'mid', 'extrinsic', 'simpleReturn', 'annualized', 'impliedVolatility']]\n",
    "print(xxx_df.to_markdown())\n",
    "\n",
    "#print(max_puts_df.to_markdown()) # print the updated dataframe as a markdown table\n"
   ]
  }
 ],
 "metadata": {
  "kernelspec": {
   "display_name": "Python 3",
   "language": "python",
   "name": "python3"
  },
  "language_info": {
   "codemirror_mode": {
    "name": "ipython",
    "version": 3
   },
   "file_extension": ".py",
   "mimetype": "text/x-python",
   "name": "python",
   "nbconvert_exporter": "python",
   "pygments_lexer": "ipython3",
   "version": "3.11.3"
  },
  "orig_nbformat": 4
 },
 "nbformat": 4,
 "nbformat_minor": 2
}

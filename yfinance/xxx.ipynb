{
 "cells": [
  {
   "cell_type": "code",
   "execution_count": 1,
   "metadata": {},
   "outputs": [
    {
     "name": "stdout",
     "output_type": "stream",
     "text": [
      "13.260000228881836\n",
      "|    | contractSymbol   | lastTradeDate             |   strike |   lastPrice |   bid |   ask |   change |   percentChange |   volume |   openInterest |   impliedVolatility | inTheMoney   | contractSize   | currency   |   intrinsic_value |   market_price |   extrinsic_value |   extrinsic_to_strike_percentage |   extrinsic_to_underlying_percentage |   called_away_percentage |\n",
      "|---:|:-----------------|:--------------------------|---------:|------------:|------:|------:|---------:|----------------:|---------:|---------------:|--------------------:|:-------------|:---------------|:-----------|------------------:|---------------:|------------------:|---------------------------------:|-------------------------------------:|-------------------------:|\n",
      "|  7 | F230804C00013000 | 2023-07-28 19:59:56+00:00 |     13   |        0.39 |  0.36 |  0.39 |    -0.57 |        -59.375  |    12123 |           1421 |            0.306648 | True         | REGULAR        | USD        |              0.26 |          0.375 |             0.115 |                       0.00884614 |                           0.00867268 |               0.00867268 |\n",
      "|  8 | F230804C00013500 | 2023-07-28 19:59:48+00:00 |     13.5 |        0.13 |  0.12 |  0.13 |    -0.47 |        -78.3333 |    22231 |           2613 |            0.291023 | False        | REGULAR        | USD        |              0    |          0.125 |             0.125 |                       0.00925926 |                           0.00942685 |               0.0275264  |\n",
      "|  6 | F230811C00013000 | 2023-07-28 19:59:32+00:00 |     13   |        0.47 |  0.45 |  0.49 |    -0.54 |        -53.4653 |     6613 |            263 |            0.324226 | True         | REGULAR        | USD        |              0.26 |          0.47  |             0.21  |                       0.0161538  |                           0.0158371  |               0.0158371  |\n",
      "|  7 | F230811C00013500 | 2023-07-28 19:59:00+00:00 |     13.5 |        0.2  |  0.2  |  0.21 |    -0.48 |        -70.5882 |     4363 |           1134 |            0.291023 | False        | REGULAR        | USD        |              0    |          0.205 |             0.205 |                       0.0151852  |                           0.01546    |               0.0335596  |\n"
     ]
    }
   ],
   "source": [
    "import yfinance as yf\n",
    "import pandas as pd\n",
    "\n",
    "ticker = \"F\"\n",
    "ul_price = yf.Ticker(ticker).history(period='1d')['Close'][0]\n",
    "expirations = yf.Ticker(ticker).options[:3]\n",
    "\n",
    "calls = pd.concat( [yf.Ticker(ticker).option_chain(expirations[0]).calls, yf.Ticker(ticker).option_chain(expirations[1]).calls, yf.Ticker(ticker).option_chain(expirations[2]).calls])\n",
    "\n",
    "calls['intrinsic_value'] = ul_price - calls['strike'] \n",
    "calls.loc[calls['intrinsic_value'] < 0, 'intrinsic_value'] = 0\n",
    "calls['market_price'] = (calls['bid'] + calls['ask']) / 2\n",
    "calls['extrinsic_value'] = calls['market_price'] - calls['intrinsic_value']\n",
    "calls['extrinsic_to_strike_percentage'] = calls['extrinsic_value'] / calls['strike'] \n",
    "calls['extrinsic_to_underlying_percentage'] = calls['extrinsic_value'] / ul_price\n",
    "calls['called_away_percentage'] = ( ul_price - calls['market_price'] - calls['strike']) / ul_price * -1\n",
    "\n",
    "print(ul_price)\n",
    "print(calls[calls['extrinsic_value'] > .1].to_markdown())"
   ]
  },
  {
   "cell_type": "code",
   "execution_count": 2,
   "metadata": {},
   "outputs": [
    {
     "name": "stdout",
     "output_type": "stream",
     "text": [
      "13.260000228881836\n"
     ]
    }
   ],
   "source": [
    "xxx = yf.Ticker(ticker).history(period='1d')['Close'][0]\n",
    "print(xxx)"
   ]
  },
  {
   "cell_type": "code",
   "execution_count": null,
   "metadata": {},
   "outputs": [],
   "source": [
    "import json\n",
    "print(json.dumps(yf.Ticker(ticker).info, indent=4) )"
   ]
  },
  {
   "cell_type": "code",
   "execution_count": 26,
   "metadata": {},
   "outputs": [
    {
     "name": "stdout",
     "output_type": "stream",
     "text": [
      "|    |   dte | expiryDate   |   strike |   bid |   ask |   mid |   extrinsic |   simpleReturn |   annualized |   impliedVolatility |\n",
      "|---:|------:|:-------------|---------:|------:|------:|------:|------------:|---------------:|-------------:|--------------------:|\n",
      "|  3 |     7 | 2023-08-04   |      3.5 |  0.2  |  0.21 | 0.205 |       0.185 |      0.05      |     2.60714  |            0.945313 |\n",
      "|  3 |    14 | 2023-08-11   |      3.5 |  0.3  |  0.35 | 0.325 |       0.305 |      0.0842857 |     2.19745  |            1.11719  |\n",
      "|  5 |    21 | 2023-08-18   |      3.5 |  0.38 |  0.41 | 0.395 |       0.375 |      0.104286  |     1.81259  |            1.12891  |\n",
      "|  4 |    28 | 2023-08-25   |      3.5 |  0.44 |  0.49 | 0.465 |       0.445 |      0.124286  |     1.62015  |            1.16407  |\n",
      "|  3 |    35 | 2023-09-01   |      3.5 |  0.48 |  0.56 | 0.52  |       0.5   |      0.14      |     1.46     |            1.17188  |\n",
      "|  3 |    49 | 2023-09-15   |      3.5 |  0.56 |  0.59 | 0.575 |       0.555 |      0.155714  |     1.15991  |            1.10547  |\n",
      "|  6 |    84 | 2023-10-20   |      3.5 |  0.73 |  0.82 | 0.775 |       0.755 |      0.212857  |     0.924915 |            1.15235  |\n",
      "|  6 |   175 | 2024-01-19   |      3.5 |  1.01 |  1.05 | 1.03  |       1.01  |      0.285714  |     0.595918 |            1.08008  |\n",
      "|  6 |   539 | 2025-01-17   |      3.5 |  1.5  |  1.7  | 1.6   |       1.58  |      0.448571  |     0.303764 |            0.99707  |\n"
     ]
    }
   ],
   "source": [
    "import yfinance as yf\n",
    "import pandas as pd\n",
    "import datetime # import the datetime module\n",
    "\n",
    "ticker = yf.Ticker(\"HUT\") \n",
    "commish = 1\n",
    "today = pd.to_datetime(datetime.date.today()) # get today's date as a DatetimeArray object\n",
    "\n",
    "\n",
    "exp_dates = ticker.options # get all expiration dates\n",
    "max_puts = [] # create an empty list to store the max_put for each date\n",
    "today_data = ticker.history(period='1d') # get today's data\n",
    "close_price = today_data['Close'].iloc[0] # get the close price\n",
    "for date in exp_dates:\n",
    "  opt = ticker.option_chain(date) # get option chain for a given date\n",
    "  \n",
    "  puts = opt.puts[(opt.puts['bid'] > 0) & (opt.puts['openInterest'] > 0)].copy() # get put options data and exclude puts that have a bid of 0\n",
    "  \n",
    "  puts.loc[:, 'lastTradeDate'] = pd.to_datetime(puts['lastTradeDate']) # convert the lastTradeDate column to a datetime object using .loc method\n",
    "  puts.loc[:, 'lastTradeDate'] = puts['lastTradeDate'].dt.tz_localize(None) # remove the timezone information using .dt.tz_localize(None) method\n",
    "  puts = puts[puts['lastTradeDate'] >= today - pd.Timedelta(days=30)] # filter out the puts that have not been traded in the last 30 days using .loc method\n",
    "\n",
    "\n",
    "  # calculate extrinsic value and find the highest one\n",
    "  puts.loc[:, 'mid'] = (puts['bid'] + puts['ask']) / 2 # calculate the mid point between the bid and ask using .loc method\n",
    "  puts.loc[:, 'intrinsic'] = puts['strike'] - close_price # calculate intrinsic value using the close price using .loc method\n",
    "  puts.loc[:, 'intrinsic'] = puts['intrinsic'].clip(lower=0) # ensure that intrinsic value is not less than 0 using .clip method\n",
    "  puts.loc[:, 'extrinsic'] = puts['mid'] - puts['intrinsic'] # calculate extrinsic value using the mid point using .loc method\n",
    "  max_extrinsic = puts['extrinsic'].max() # find the maximum extrinsic value\n",
    "  max_put = puts[puts['extrinsic'] == max_extrinsic] # find the put option with the maximum extrinsic value\n",
    "  max_puts.append(max_put) # add the max_put to the list\n",
    "\n",
    "\n",
    "max_puts_df = pd.concat(max_puts) # concatenate the list of dataframes into a single dataframe\n",
    "\n",
    "ticker_len = len(ticker.ticker) # get the length of the ticker symbol\n",
    "\n",
    "max_puts_df.loc[:, 'expiryDate'] = pd.to_datetime(max_puts_df['contractSymbol'].str.slice(ticker_len, ticker_len+6), format='%y%m%d').dt.date # create a column named expiryDate using the contractSymbol column and convert it to a date object\n",
    "max_puts_df.loc[:, 'dte'] = (pd.to_datetime(max_puts_df['expiryDate']) - today).dt.days # create a column named dte using the expiryDate column and calculate the days to expiration as an int\n",
    "\n",
    "max_puts_df = max_puts_df[~(max_puts_df['dte'] == 0)] # remove rows where dte is 0\n",
    "\n",
    "max_puts_df.loc[:, 'simpleReturn'] = (max_puts_df['extrinsic'] - commish/100) / max_puts_df['strike'] # calculate the simple return using the extrinsicValue and strike columns\n",
    "max_puts_df.loc[:, 'annualized'] = max_puts_df['simpleReturn'] / max_puts_df['dte'] * 365  # calculate the annualized return using the extrinsicValue and strike columns\n",
    "\n",
    "xxx_df = max_puts_df.loc[:, ['dte', 'expiryDate', 'strike', 'bid', 'ask', 'mid', 'extrinsic', 'simpleReturn', 'annualized', 'impliedVolatility']]\n",
    "print(xxx_df.to_markdown())\n",
    "\n",
    "#print(max_puts_df.to_markdown()) # print the updated dataframe as a markdown table\n"
   ]
  }
 ],
 "metadata": {
  "kernelspec": {
   "display_name": "Python 3",
   "language": "python",
   "name": "python3"
  },
  "language_info": {
   "codemirror_mode": {
    "name": "ipython",
    "version": 3
   },
   "file_extension": ".py",
   "mimetype": "text/x-python",
   "name": "python",
   "nbconvert_exporter": "python",
   "pygments_lexer": "ipython3",
   "version": "3.11.4"
  },
  "orig_nbformat": 4
 },
 "nbformat": 4,
 "nbformat_minor": 2
}
